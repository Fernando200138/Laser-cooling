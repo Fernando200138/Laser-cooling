{
 "cells": [
  {
   "cell_type": "markdown",
   "metadata": {},
   "source": [
    "# Laser cooling guide\n",
    "\n",
    "In this notebook I will try to replicate (ans simplify the code) of Rick's lasercooling notebook not just to have a better understanding but hopefully to be able to to improve upon it and to add the necessary adjustments to be able to replicate the date from the experiment here."
   ]
  },
  {
   "cell_type": "code",
   "execution_count": 50,
   "metadata": {
    "ExecuteTime": {
     "end_time": "2024-07-03T15:08:23.660910Z",
     "start_time": "2024-07-03T15:08:23.654805Z"
    }
   },
   "outputs": [],
   "source": [
    "import statistics\n",
    "\n",
    "#Import standard libraries\n",
    "import numpy as np\n",
    "import matplotlib.pyplot as plt\n",
    "import datetime\n",
    "import scipy.stats as st\n",
    "from scipy.optimize import curve_fit\n",
    "import pandas as pd\n",
    "import random\n",
    "from scipy.optimize import leastsq\n",
    "from matplotlib import cm as CM\n",
    "from scipy.stats import norm"
   ]
  },
  {
   "cell_type": "markdown",
   "metadata": {},
   "source": [
    "This are global paramters and eventhough most of them are constant although some might be a good idea to change"
   ]
  },
  {
   "cell_type": "code",
   "execution_count": 51,
   "metadata": {
    "ExecuteTime": {
     "end_time": "2024-07-03T15:08:23.789362Z",
     "start_time": "2024-07-03T15:08:23.765855Z"
    }
   },
   "outputs": [],
   "source": [
    "# Global constants\n",
    "c    = 299792458         # m/s, speed of light\n",
    "kB   = 1.380649e-23      # J/K. Boltzmann constant\n",
    "amu  = 1.66053904e-27    # kg, molar mass conversion constant\n",
    "h    = 6.62607015e-34    # J s,  Planck constant\n",
    "hbar = h/(2*np.pi)\n",
    "g    = 9.81              # m/s**2, constant of acceleration due to Earth's gravity\n",
    "\n",
    "# properties of setup\n",
    "Labs     =  0.005\n",
    "Lfront   =  0.197\n",
    "Lhex     =  0.390\n",
    "Lback    =  0.127 - 0.04           \n",
    "Llc      =  0.15\n",
    "Ldetect  =  0.60\n",
    "Lsp      =  3.50 - Ldetect - Llc - Lback - Lhex - Lfront\n",
    "\n",
    "L        = [Lfront-Labs, Lhex, Lback, Llc, Ldetect, Lsp]\n",
    "\n",
    "# Properties for BaF (or SrF)\n",
    "#mass = (88 + 19) *amu   \n",
    "mass = (138 + 19) *amu   \n",
    "B    = 0.21594802         # rotational constant of BaF in cm-1 (Master Thesis Jeroen Maat)\n",
    "mu   = 3.170*0.0168       # dipole moment in cm-1/(kv/cm)  (debye * conversionfactor)\n",
    "\n",
    "Starkfit = [[0 for i in range(7)] for j in range(5)]\n",
    "Starkfit[0] = [1.99832523,  2.78038613,  1.0962849,  11.2629089,   1.6618291,   0.,  0.,  0.,  0.]   # parameters for N=1,M=0 state of BaF. Which paramters?\n",
    "Starkfit[1] = [1.99297730e+00, -2.30557413e-06,  6.22563075e-04,  1.66160290e+00,  2.42295526e-01,  2.69430173e+00,  4.12591610e-01]    # parametersfor N=1,M=1 state of BaF  \n",
    "                          \n",
    "\n",
    "delta    = 1.e-6          # used for taking derivative of field. > 1.e-4 the results start to deviate.\n",
    "dt       = 1.e-4          # timestep in the guiding() function; depends on the acceleration. \n",
    "                          # 1.e-4 is sufficient for an error less than 10 micron after 5 meters of flight. \n",
    "\n",
    "J2wavenr = 1/(100*h*c)    # factor to convert energy in cm-1 to SI\n",
    "\n",
    "\n",
    "\n",
    "r0hex    = 6.e-3          # inner radius hexapole\n",
    "phi0hex  = 4.501e3 #4.5e3          # voltage applied to hexapole rods (plus and minus -> the voltage difference between adjacent rods is 2*phi0hex)\n",
    "\n",
    "wavevector =  2*np.pi/860e-9\n",
    "gamma      =  1/60e-9\n",
    "\n",
    "x_laser    =  10#10.e-3      # size laserbeam   \n",
    "'''\n",
    "size laserbeam? like what, the width?\n",
    "'''\n",
    "v_Doppler  =  0.1         # minimum velocity corresponding to the Doppler temperature in m/s \n",
    "\n",
    "s0         =  4.        #12.  # I/I_s\n",
    "detuning   =  3.2*gamma   # detuning in Hz\n",
    "\n",
    "xx0      = [0.66e-3,   0,    0.e-3,  0.,   0.,  0., 184.]\n",
    "dxx      = [0.33e-3,  4.5e-3, 4.5e-3, 0.e-3, 20., 20., 27.]  \n",
    "\n",
    "#nn = 1000   # number of molecules !100000\n",
    "#nnsim = 10000   # number of molecules in simulation !100000\n",
    "ni = 100      # number of voltage steps !200\n",
    "pi=np.pi"
   ]
  },
  {
   "cell_type": "markdown",
   "metadata": {},
   "source": [
    "There are basically two main parts of the experiment we want to simulate. The hexapole and the laser cooling. The hexapole part is going to require many more functions because there are more physics happening there (like the Stark effect etc.)\n",
    "\n",
    "Let's start by simulating the laser cooling alone and let's just see if we can get a force curve."
   ]
  },
  {
   "cell_type": "markdown",
   "metadata": {},
   "source": [
    "#First we need to write the fit acceleration function Rick wrote. \n",
    "# see eq. 7.1 Metcalf and van der Straten with factor 4500/15000 to get proper acceleration according to simulations of Roman\n",
    "def ascat(vx,fudgefactor,s0,detuning):\n",
    "    ascat = fudgefactor*((gamma/2)*(s0/(1 + s0 + (2*(detuning*gamma + wavevector*vx)/gamma)**2))*hbar*wavevector  \\\n",
    "                        -(gamma/2)*(s0/(1 + s0 + (2*(detuning*gamma - wavevector*vx)/gamma)**2))*hbar*wavevector)/mass  \n",
    "    return ascat\n",
    "def fitfunction(vx_list,fudgefactor,s0,detuning):\n",
    "    fit = np.array([0.0 for j in range(len(vx_list))])\n",
    "    for j in range(len(vx_list)):\n",
    "        fit[j] = fudgefactor*((gamma/2)*(s0/(1 + s0 + (2*(detuning*gamma + wavevector*vx_list[j])/gamma)**2))*hbar*wavevector  \\\n",
    "                             -(gamma/2)*(s0/(1 + s0 + (2*(detuning*gamma - wavevector*vx_list[j])/gamma)**2))*hbar*wavevector)/mass \n",
    "    return fit\n"
   ]
  },
  {
   "cell_type": "markdown",
   "metadata": {},
   "source": [
    "What do these equations do? The ascat is a function that fits the laser cooling force given a speed, the fudgefactor, the saturation parameter and the detuning.\n",
    "The fitfunction is basically the same function as ascat except it works for an array of function and not for a single velocity.\n",
    "With these functions we should be able to simulate a force curve."
   ]
  },
  {
   "cell_type": "markdown",
   "metadata": {},
   "source": [
    "'''\n",
    "def lasercooling(finish,fudgefactor,s0,detuning,xxs,hit): #xxs represents an array of t,x,y,z,vx,vy,vz\n",
    "    xxp=xxs\n",
    "    ti,xi,yi,zi,vxi,vyi,vzi=xxs\n",
    "    tf,xf,yf,zf,vxf,vyf,vzf=xxp\n",
    "    nsteps=0\n",
    "    while((vzi<=vzf<finish) and hit==True):\n",
    "        if ((abs(xf)<=0.5*x_laser) and (abs(vxf)>0.5*v_Doppler)):\n",
    "            vxf+=dt*ascat(vxf,fudgefactor,s0,detuning)\n",
    "        if ((abs(yf)<=0.5*x_laser) and (abs(vyf)>0.5*v_Doppler)):\n",
    "            vyf +=dt*ascat(vyf,fudgefactor,s0,detuning)\n",
    "        vzf+=0\n",
    "        xf+=dt*vxf\n",
    "        yf+=dt*vyf\n",
    "        vzf+=dt*vzf\n",
    "        tf+=dt\n",
    "        nsteps+=1\n",
    "    return [np.array([tf,xf,yf,zf,vxf,vyf,vzf]),hit]\n",
    "'''\n",
    "    "
   ]
  },
  {
   "cell_type": "markdown",
   "metadata": {},
   "source": [
    "def lasercooling(endpoint,fudgefactor,s0,detuning,xxs,hit):           #here, xxs is assumed to be 1-D arrays with 7 elems; t,x,y,z,vx,vy,vz\n",
    "   \n",
    "    xxp = np.zeros(7)\n",
    "    for i in range(0,7): xxp[i] = xxs[i]\n",
    "    nsteps = 0   \n",
    "    while((xxs[3] <= xxp[3] < endpoint) and hit == True):\n",
    "        \n",
    "        if((abs(xxp[1]) <= 0.5*x_laser) and (abs(xxp[4]) > 0.5*v_Doppler)) :\n",
    "            xxp[4] += dt*ascat(xxp[4],fudgefactor,s0,detuning)     \n",
    "        if((abs(xxp[2]) <= 0.5*x_laser) and (abs(xxp[5]) > 0.5*v_Doppler)) :\n",
    "            xxp[5] += dt*ascat(xxp[5],fudgefactor,s0,detuning)\n",
    "          \n",
    "        xxp[6] += 0\n",
    "            \n",
    "        xxp[1] += dt*xxp[4]\n",
    "        xxp[2] += dt*xxp[5]\n",
    "        xxp[3] += dt*xxp[6]\n",
    "            \n",
    "        xxp[0] += dt\n",
    "            \n",
    "        nsteps += 1\n",
    "        \n",
    "    return [xxp,hit]  "
   ]
  },
  {
   "cell_type": "markdown",
   "metadata": {},
   "source": [
    "#Would be good to know where this function comes from, like phisically\n",
    "# I mean it's about the Stark shift but I'm nos exactly sure where it comes from\n",
    "\n",
    "def WStark(E,s):\n",
    "    \n",
    "   muoverB  = mu/B     \n",
    "   WStark   = B*(Starkfit[s][0] + (np.sqrt(Starkfit[s][1]**2 + (Starkfit[s][2]*muoverB*E)**2) - Starkfit[s][1]) \\\n",
    "                                - (np.sqrt(Starkfit[s][3]**2 + (Starkfit[s][4]*muoverB*E)**2) - Starkfit[s][3]) \\\n",
    "                                - (np.sqrt(Starkfit[s][5]**2 + (Starkfit[s][6]*muoverB*E)**2) - Starkfit[s][5]) \\\n",
    "                 ) \n",
    "   return WStark "
   ]
  },
  {
   "cell_type": "markdown",
   "metadata": {},
   "source": [
    "'''\n",
    "The following functions are requiered for the hexapole simulation.\n",
    "'''\n",
    "def Phihex(x,y,phi0hex,r0hex): \n",
    "    r = (x**2+y**2)**(1/2)\n",
    "    if r > 0:\n",
    "        if y > 0. :\n",
    "            theta = np.arccos(x/r) - (10/180)*np.pi\n",
    "        else :\n",
    "            theta = -np.arccos(x/r) - (10/180)*np.pi\n",
    "\n",
    "    phihex = (r/r0hex)**3 * (phi0hex * np.cos(3*theta))   # with a3=3 \n",
    "    '''They are using equation 26'''\n",
    "    \n",
    "    return phihex\n",
    "def Ehex(x,y,phi0hex,r0hex):    \n",
    "    Ehex = 1.e-5*np.sqrt(((Phihex(x+delta,y,phi0hex,r0hex)-Phihex(x-delta,y,phi0hex,r0hex))/(2.*delta))**2 \\\n",
    "                        +((Phihex(x,y+delta,phi0hex,r0hex)-Phihex(x,y-delta,phi0hex,r0hex))/(2.*delta))**2)\n",
    "    \n",
    "                                  # Gives electric field in cm-1/(kV/cm) (hence the factor 1.e-5)\n",
    "    return Ehex\n",
    "\n",
    "def Whex(x,y,phi0hex,r0hex,s):\n",
    "   E        =  Ehex(x,y,phi0hex,r0hex)  \n",
    "   Whex     =  WStark(E,s)\n",
    "   return Whex \n",
    "\n",
    "def axhex(x,y,phi0hex,r0hex,s):\n",
    "    axhex = -(((Whex(x+delta,y,phi0hex,r0hex,s)-Whex(x-delta,y,phi0hex,r0hex,s))/J2wavenr)/(2*delta*mass))\n",
    "    return axhex\n",
    "\n",
    "def ayhex(x,y,phi0hex,r0hex,s):\n",
    "    ayhex = -(((Whex(x,y+delta,phi0hex,r0hex,s)-Whex(x,y-delta,phi0hex,r0hex,s))/J2wavenr)/(2*delta*mass))\n",
    "    return ayhex    "
   ]
  },
  {
   "cell_type": "markdown",
   "metadata": {},
   "source": [
    "'''\n",
    "This function is used to find the optimal paramters for the saturation, detunning\n",
    "and the fudgefactor. It still needs the leastq function from scipy. \n",
    "Check test_acceleration_curve.ipynb\n",
    "'''\n",
    "def residual(vars, vx_list,ascat_sim, data, eps_data):\n",
    "   afit = vars          \n",
    "   chi  = 0. \n",
    "   fit  = fitfunction(vx_list,afit[0],afit[1],afit[2])\n",
    "   for j in range(len(vx_list)):\n",
    "       chi +=    ((ascat_sim - fit[j])/1.)**2/float(len(vx_list)) \n",
    "#   print(np.sqrt(chi))\n",
    "#   print(vars)\n",
    "   return ((ascat_sim-fit) / 1.) "
   ]
  },
  {
   "cell_type": "markdown",
   "metadata": {},
   "source": [
    "def phasespaceellipse2D(xx0,dxx):\n",
    "    # \n",
    "    itry = 0\n",
    "    \n",
    "    hit = False\n",
    "    while hit == False and itry < 100:\n",
    "        xx = np.zeros(7)\n",
    "        itry += 1\n",
    "#        print(\"itry:\",itry)\n",
    "        if itry > 99 :\n",
    "            print(\"itry exceeded 100!\")    \n",
    "        xr = np.sqrt(np.random.uniform())            \n",
    "        theta = np.random.uniform()*2*np.pi  \n",
    "        '''\n",
    "        This are the coordinates of the random walk that are been used to simulate the trajectory of the particle.\n",
    "        Why do we need a random walk to simulate it? Since particles are emitting photons in random directions\n",
    "        '''\n",
    "        xx[1] = xx0[1] + 0.5*dxx[1]*xr*np.sin(theta)  # Only x-coordinate. This is the position of the particle\n",
    "        xx[4] = xx0[4] + 0.5*dxx[4]*xr*np.cos(theta)  #This is the velocity of the particle.\n",
    "\n",
    "        xr = np.sqrt(np.random.uniform())           \n",
    "        theta = np.random.uniform()*2*np.pi\n",
    "        '''\n",
    "        This lines may seem redudant but they're not. They are used to defined the coordinates for the y-axis. If they weren't redefined then x==y would always happpend.\n",
    "        '''\n",
    "        xx[2] = xx0[2] + 0.5*dxx[2]*xr*np.sin(theta)  # \n",
    "        xx[5] = xx0[5] + 0.5*dxx[5]*xr*np.cos(theta)\n",
    "\n",
    "        if ((xx[1]-xx0[1])**2 + (xx[2]-xx0[2])**2 < (0.5*dxx[1])**2): #wouldn't we need dxx[2] here two?\n",
    "            hit = True\n",
    "    xx[0] = np.random.normal(xx0[0],dxx[0])    \n",
    "    xx[3] = xx0[3]\n",
    "    xx[6] = np.random.normal(xx0[6],dxx[6])     \n",
    "    if(np.random.uniform() > 0.):                            # in N=1; 3/5 in m=1 and 2/5 in m=0; (if > 0.4 then s=0)\n",
    "       s = 0\n",
    "    else: \n",
    "       s = 1      \n",
    "#        xr = np.sqrt(np.random.uniform())            \n",
    "#        theta = np.random.uniform()*2*np.pi\n",
    "#    \n",
    "#        xx[3] = xx0[3] + 0.5*dxx[3]*xr*np.sin(theta)  # Only z-coordinate\n",
    "#        xx[6] = xx0[6] + 0.5*dxx[6]*xr*np.cos(theta) \n",
    "    return [xx,s,hit]\n",
    "\n"
   ]
  },
  {
   "cell_type": "markdown",
   "metadata": {},
   "source": [
    "def freeflight(endpoint,xxs,hit):\n",
    "    nteps=0\n",
    "    xxp=xxs\n",
    "    ti,xi,yi,zi,vxi,vyi,vzi=xxs\n",
    "    tf,xf,yf,zf,vxf,vyf,vzf=xxp\n",
    "    while (zi<=zf<endpoint and hit ==True):\n",
    "        xf+=vxf*(endpoint-zi)/vzf\n",
    "        yf+=vyf*(endpoint-zi)/vzf\n",
    "        zf=endpoint\n",
    "        #This function will run for only one iteration. There might be a better way to do it\n",
    "        tf+=(endpoint-zi)/vzf\n",
    "        nteps+=1\n",
    "    return [np.array([tf,xf,yf,zf,vxf,vyf,vzf]),hit]\n",
    "'''\n",
    "freeflight will always return a hit==True because it never changes the variable.\n",
    "'''\n",
    "def hexapole(endpoint,phi0hex,r0hex,xxs,s,hit): #xxs is a 1-D arrray with 7 elements.\n",
    "    nteps=0\n",
    "    xxp=xxs\n",
    "    ti,xi,yi,zi,vxi,vyi,vzi=xxs\n",
    "    tf,xf,yf,zf,vxf,vyf,vzf=xxp\n",
    "    while((zi<=zf<endpoint) and hit==True):\n",
    "        if -phi0hex<Phihex(xf,yf,phi0hex,r0hex)<phi0hex:\n",
    "            vxf+=dt*axhex(xf,yf,phi0hex,r0hex,s)\n",
    "            vyf+=dt*ayhex(xf,yf,phi0hex,r0hex,s)\n",
    "            vzf+=0\n",
    "            xf+=dt*vxf\n",
    "            yf+=dt*vyf\n",
    "            zf+=dt*vzf\n",
    "            tf+=dt\n",
    "            nteps+=1\n",
    "        else:\n",
    "            hit=False\n",
    "            break\n",
    "    return [np.array([tf,xf,yf,zf,vxf,vyf,vzf]),hit]\n",
    "\n"
   ]
  },
  {
   "cell_type": "code",
   "execution_count": 52,
   "metadata": {},
   "outputs": [
    {
     "data": {
      "text/plain": [
       "'i.e., ascat and fitfunction are the same, but fitfunction returns a list of accelerations rather than one acceleration'"
      ]
     },
     "execution_count": 52,
     "metadata": {},
     "output_type": "execute_result"
    }
   ],
   "source": [
    "def WStark(E,s):\n",
    "    \n",
    "   muoverB  = mu/B     \n",
    "   WStark   = B*(Starkfit[s][0] + (np.sqrt(Starkfit[s][1]**2 + (Starkfit[s][2]*muoverB*E)**2) - Starkfit[s][1]) \\\n",
    "                                - (np.sqrt(Starkfit[s][3]**2 + (Starkfit[s][4]*muoverB*E)**2) - Starkfit[s][3]) \\\n",
    "                                - (np.sqrt(Starkfit[s][5]**2 + (Starkfit[s][6]*muoverB*E)**2) - Starkfit[s][5]) \\\n",
    "                 ) \n",
    "   return WStark \n",
    "def Phihex(x,y,phi0hex,r0hex): \n",
    "    r = (x**2+y**2)**(1/2)\n",
    "    if r > 0:\n",
    "        if y > 0. :\n",
    "            theta = np.arccos(x/r) - (10/180)*np.pi\n",
    "        else :\n",
    "            theta = -np.arccos(x/r) - (10/180)*np.pi\n",
    "\n",
    "    phihex = (r/r0hex)**3 * (phi0hex * np.cos(3*theta))   # with a3=3 \n",
    "    '''They are using equation 26'''\n",
    "    \n",
    "    return phihex\n",
    "\n",
    "def Ehex(x,y,phi0hex,r0hex):    \n",
    "    Ehex = 1.e-5*np.sqrt(((Phihex(x+delta,y,phi0hex,r0hex)-Phihex(x-delta,y,phi0hex,r0hex))/(2.*delta))**2 \\\n",
    "                        +((Phihex(x,y+delta,phi0hex,r0hex)-Phihex(x,y-delta,phi0hex,r0hex))/(2.*delta))**2)\n",
    "    \n",
    "                                  # Gives electric field in cm-1/(kV/cm) (hence the factor 1.e-5)\n",
    "    return Ehex\n",
    "\n",
    "def Whex(x,y,phi0hex,r0hex,s):\n",
    "   E        =  Ehex(x,y,phi0hex,r0hex)  \n",
    "   Whex     =  WStark(E,s)\n",
    "   return Whex \n",
    "\n",
    "def axhex(x,y,phi0hex,r0hex,s):\n",
    "    axhex = -(((Whex(x+delta,y,phi0hex,r0hex,s)-Whex(x-delta,y,phi0hex,r0hex,s))/J2wavenr)/(2*delta*mass))\n",
    "    return axhex\n",
    "\n",
    "def ayhex(x,y,phi0hex,r0hex,s):\n",
    "    ayhex = -(((Whex(x,y+delta,phi0hex,r0hex,s)-Whex(x,y-delta,phi0hex,r0hex,s))/J2wavenr)/(2*delta*mass))\n",
    "    return ayhex      \n",
    "\n",
    "# see eq. 7.1 Metcalf and van der Straten with factor 4500/15000 to get proper acceleration according to simulations of Roman\n",
    "def ascat(vx,fudgefactor,s0,detuning):\n",
    "    ascat = fudgefactor*((gamma/2)*(s0/(1 + s0 + (2*(detuning*gamma + wavevector*vx)/gamma)**2))*hbar*wavevector  \\\n",
    "                        -(gamma/2)*(s0/(1 + s0 + (2*(detuning*gamma - wavevector*vx)/gamma)**2))*hbar*wavevector)/mass  \n",
    "    return ascat\n",
    "'''\n",
    "As I understand it, the ascat is some kind of fit for the acceleration.\n",
    "'''\n",
    "\n",
    "\n",
    "# see eq. 7.1 Metcalf and van der Straten with factor 4500/15000 to get proper acceleration according to simulations of Roman\n",
    "def fitfunction(vx_list,fudgefactor,s0,detuning):\n",
    "    fit = np.array([0.0 for j in range(len(vx_list))])\n",
    "    for j in range(len(vx_list)):\n",
    "        fit[j] = fudgefactor*((gamma/2)*(s0/(1 + s0 + (2*(detuning*gamma + wavevector*vx_list[j])/gamma)**2))*hbar*wavevector  \\\n",
    "                             -(gamma/2)*(s0/(1 + s0 + (2*(detuning*gamma - wavevector*vx_list[j])/gamma)**2))*hbar*wavevector)/mass \n",
    "    return fit\n",
    "\n",
    "'''i.e., ascat and fitfunction are the same, but fitfunction returns a list of accelerations rather than one acceleration'''"
   ]
  },
  {
   "cell_type": "code",
   "execution_count": 53,
   "metadata": {},
   "outputs": [
    {
     "data": {
      "text/plain": [
       "'\\nThis funcition runs until it finds a point it can work with i.e it keeps redefining xx\\n'"
      ]
     },
     "execution_count": 53,
     "metadata": {},
     "output_type": "execute_result"
    }
   ],
   "source": [
    "def phasespaceellipse2D(xx0,dxx):\n",
    "    # \n",
    "    itry = 0\n",
    "    \n",
    "    hit = False\n",
    "    while hit == False and itry < 100:\n",
    "        xx = np.zeros(7)\n",
    "        itry += 1\n",
    "#        print(\"itry:\",itry)\n",
    "        if itry > 99 :\n",
    "            print(\"itry exceeded 100!\")\n",
    "               \n",
    "        xr = np.sqrt(np.random.uniform())            \n",
    "        theta = np.random.uniform()*2*np.pi  \n",
    "        '''\n",
    "        This are the coordinates of the random walk that are been used to simulate the trajectory of the particle.\n",
    "        Why do we need a random walk to simulate it? Since particles are emitting photons in random directions\n",
    "        '''\n",
    "        \n",
    "        xx[1] = xx0[1] + 0.5*dxx[1]*xr*np.sin(theta)  # Only x-coordinate. This is the position of the particle\n",
    "        xx[4] = xx0[4] + 0.5*dxx[4]*xr*np.cos(theta)  #This is the velocity of the particle.\n",
    "\n",
    "        xr = np.sqrt(np.random.uniform())           \n",
    "        theta = np.random.uniform()*2*np.pi\n",
    "        '''\n",
    "        This lines may seem redudant but they're not. They are used to defined the coordinates for the y-axis. If they weren't redefined then x==y would always happpend.\n",
    "        '''\n",
    "\n",
    "        xx[2] = xx0[2] + 0.5*dxx[2]*xr*np.sin(theta)  # \n",
    "        xx[5] = xx0[5] + 0.5*dxx[5]*xr*np.cos(theta)\n",
    "\n",
    "        if ((xx[1]-xx0[1])**2 + (xx[2]-xx0[2])**2 < (0.5*dxx[1])**2): #wouldn't we need dxx[2] here two?\n",
    "            hit = True\n",
    "    \n",
    "    xx[0] = np.random.normal(xx0[0],dxx[0])    \n",
    "    xx[3] = xx0[3]\n",
    "    xx[6] = np.random.normal(xx0[6],dxx[6])     \n",
    "    \n",
    "    if(np.random.uniform() > 0.):                            # in N=1; 3/5 in m=1 and 2/5 in m=0; (if > 0.4 then s=0)\n",
    "       s = 0\n",
    "    else: \n",
    "       s = 1      \n",
    "#    \n",
    "#        xr = np.sqrt(np.random.uniform())            \n",
    "#        theta = np.random.uniform()*2*np.pi\n",
    "#    \n",
    "#        xx[3] = xx0[3] + 0.5*dxx[3]*xr*np.sin(theta)  # Only z-coordinate\n",
    "#        xx[6] = xx0[6] + 0.5*dxx[6]*xr*np.cos(theta) \n",
    "#            \n",
    "    \n",
    "    return [xx,s,hit]\n",
    "\n",
    "'''\n",
    "This funcition runs until it finds a point it can work with i.e it keeps redefining xx\n",
    "'''"
   ]
  },
  {
   "cell_type": "code",
   "execution_count": 54,
   "metadata": {},
   "outputs": [],
   "source": [
    "def freeflight(endpoint,xxs,hit):                         #here, xxs is assumed to be 1-D arrays with 7 elems; t,x,y,z,vx,vy,vz\n",
    "\n",
    "    xxp = np.zeros(7)\n",
    "    nsteps=0\n",
    "    for i in range(0,7): xxp[i] = xxs[i]  \n",
    "  \n",
    "    while(xxs[3] <= xxp[3] < endpoint and hit == True):\n",
    "            \n",
    "        xxp[1] += xxp[4]*(endpoint-xxs[3])/xxp[6]\n",
    "        xxp[2] += xxp[5]*(endpoint-xxs[3])/xxp[6]\n",
    "        xxp[3]  = endpoint\n",
    "        #Wouldn't this only run for one iteration?\n",
    "        \n",
    "        xxp[0] += (endpoint-xxs[3])/xxp[6]\n",
    "        \n",
    "        nsteps     += 1\n",
    "        #print(nsteps)\n",
    "    \n",
    "    return [xxp,hit]     \n",
    "'''\n",
    "freeflight will always return a hit==True because it never changes the variable.\n",
    "'''\n",
    "\n",
    "def hexapole(endpoint,phi0hex,r0hex,xxs,s,hit):               #here, xxs is assumed to be 1-D arrays with 7 elems; t,x,y,z,vx,vy,vz\n",
    "\n",
    "    xxp = np.zeros(7)\n",
    "    for i in range(0,7): xxp[i] = xxs[i]\n",
    "    nsteps = 0   \n",
    "    while((xxs[3] <= xxp[3] < endpoint) and hit == True):\n",
    "        \n",
    "#        if (xxp[1]**2 + xxp[2]**2) <= r0hex**2:\n",
    "        if -phi0hex < Phihex(xxp[1],xxp[2],phi0hex,r0hex) < phi0hex :\n",
    "        \n",
    "            xxp[4] += dt*axhex(xxp[1],xxp[2],phi0hex,r0hex,s)  \n",
    "            '''\n",
    "            Here I think that axhex is the function that changes the trajectory of the particle (an also ayhex)\n",
    "            '''\n",
    "            xxp[5] += dt*ayhex(xxp[1],xxp[2],phi0hex,r0hex,s) \n",
    "            xxp[6] += 0\n",
    "            \n",
    "            xxp[1] += dt*xxp[4]\n",
    "            xxp[2] += dt*xxp[5]\n",
    "            xxp[3] += dt*xxp[6]\n",
    "            \n",
    "            xxp[0] += dt\n",
    "            \n",
    "            nsteps += 1\n",
    "            \n",
    "        else:                                               # molecule has hit an electrode. Stop calculation.\n",
    "            hit = False\n",
    "            break\n",
    "    \n",
    "    return [xxp,hit]     \n",
    "\n",
    "def lasercooling(endpoint,fudgefactor,s0,detuning,xxs,hit):           #here, xxs is assumed to be 1-D arrays with 7 elems; t,x,y,z,vx,vy,vz\n",
    "   \n",
    "    xxp = np.zeros(7)\n",
    "    for i in range(0,7): xxp[i] = xxs[i]\n",
    "    nsteps = 0   \n",
    "    while((xxs[3] <= xxp[3] < endpoint) and hit == True):\n",
    "        \n",
    "        if((abs(xxp[1]) <= 0.5*x_laser) and (abs(xxp[4]) > 0.5*v_Doppler)) :\n",
    "            xxp[4] += dt*ascat(xxp[4],fudgefactor,s0,detuning)     \n",
    "        if((abs(xxp[2]) <= 0.5*x_laser) and (abs(xxp[5]) > 0.5*v_Doppler)) :\n",
    "            xxp[5] += dt*ascat(xxp[5],fudgefactor,s0,detuning)\n",
    "          \n",
    "        xxp[6] += 0\n",
    "            \n",
    "        xxp[1] += dt*xxp[4]\n",
    "        xxp[2] += dt*xxp[5]\n",
    "        xxp[3] += dt*xxp[6]\n",
    "            \n",
    "        xxp[0] += dt\n",
    "            \n",
    "        nsteps += 1\n",
    "        \n",
    "    return [xxp,hit]  "
   ]
  },
  {
   "cell_type": "code",
   "execution_count": null,
   "metadata": {
    "ExecuteTime": {
     "end_time": "2024-07-03T15:08:24.030643Z",
     "start_time": "2024-07-03T15:08:24.018931Z"
    }
   },
   "outputs": [],
   "source": []
  },
  {
   "cell_type": "markdown",
   "metadata": {},
   "source": [
    "Trajectories"
   ]
  },
  {
   "cell_type": "code",
   "execution_count": 55,
   "metadata": {
    "ExecuteTime": {
     "end_time": "2024-07-03T15:08:24.084104Z",
     "start_time": "2024-07-03T15:08:24.063983Z"
    }
   },
   "outputs": [],
   "source": [
    "def trajectory_simulation(initial_pos,nn,nj,ff,s0,detun,lc = True,hex = True):\n",
    "    z_position=[]\n",
    "    x_positiion=[]\n",
    "    y_position=[]\n",
    "    vx=[]\n",
    "    vy=[]\n",
    "    vz=[]\n",
    "    ax=[]\n",
    "    ay=[]\n",
    "    xx=np.zeros(7)\n",
    "\n",
    "#nn number of molecules\n",
    "#nj number of points in each stage of the trajectory (counting only hexapole and laser cooling)\n",
    "    time = datetime.datetime.now().time()\n",
    "    print(\"started at:\",time)\n",
    "    for i in range(0,nn):\n",
    "        tempz=[]\n",
    "        tempx=[]\n",
    "        tempy=[]\n",
    "        tempvx=[]\n",
    "        tempvy=[]\n",
    "        tempax=[]\n",
    "        tempay=[]\n",
    "        [xx,s,hit]=initial_pos[i]#How are xx0 and dxx really defined?\n",
    "        tempz.append(xx[3])\n",
    "        tempx.append(xx[1])\n",
    "        tempy.append(xx[2])\n",
    "        tempvx.append(xx[4])\n",
    "        tempvy.append(xx[5])\n",
    "        tempax.append(0.)\n",
    "        tempay.append(0.)\n",
    "        [xx,hit]=freeflight(L[0],xx,hit)\n",
    "        if hit:\n",
    "            tempz.append(xx[3])\n",
    "            tempx.append(xx[1])\n",
    "            tempy.append(xx[2])\n",
    "            tempvx.append(xx[4])\n",
    "            tempvy.append(xx[5])\n",
    "            tempax.append(0.)\n",
    "            tempay.append(0.)\n",
    "        if L[1]>0:\n",
    "            for j in range(nj):\n",
    "                [xx,hit]=hexapole(L[0]+L[1]*float(j)/float(nj-1),phi0hex,r0hex,xx,s,hit)\n",
    "                if hit:\n",
    "                    tempz.append(xx[3])\n",
    "                    tempx.append(xx[1])\n",
    "                    tempy.append(xx[2])\n",
    "                    tempvx.append(xx[4])\n",
    "                    tempvy.append(xx[5])\n",
    "                    tempax.append(axhex(xx[4],xx[5],phi0hex,r0hex,s))\n",
    "                    tempay.append((ayhex(xx[4],xx[5],phi0hex,r0hex,s)))\n",
    "        tempz.append(xx[3])\n",
    "        tempx.append(xx[1])\n",
    "        tempy.append(xx[2])\n",
    "        tempvx.append(xx[4])\n",
    "        tempvy.append(xx[5])\n",
    "        tempax.append(0.)\n",
    "        tempay.append(0.)\n",
    "        [xx,hit]=freeflight(L[0]+L[1]+L[2],xx,hit)\n",
    "        if hit:\n",
    "            tempz.append(xx[3])\n",
    "            tempx.append(xx[1])\n",
    "            tempy.append(xx[2])\n",
    "            tempvx.append(xx[4])\n",
    "            tempvy.append(xx[5])\n",
    "            tempax.append(0.)\n",
    "            tempay.append(0.)\n",
    "        if L[1]>0:\n",
    "            for j in range(nj):\n",
    "                if lc:\n",
    "                    [xx,hit]=lasercooling(L[0]+L[1]+L[2]+L[3]*float(j)/float(nj-1),ff,s0,detun,xx,hit)\n",
    "                    #print('cooling')\n",
    "\n",
    "                    if hit:\n",
    "                        tempz.append(xx[3])\n",
    "                        tempx.append(xx[1])\n",
    "                        tempy.append(xx[2])\n",
    "                        tempvx.append(xx[4])\n",
    "                        tempvy.append(xx[5])\n",
    "                        tempax.append(ascat(xx[4],ff,s0,detun))\n",
    "                        tempay.append(ascat(xx[5],ff,s0,detun))\n",
    "\n",
    "                else:\n",
    "                    [xx,hit]=freeflight(L[0]+L[1]+L[2]+L[3]*float(j)/float(nj-1),xx,hit)\n",
    "                    #print('not cooling')\n",
    "                    if hit:\n",
    "                        tempz.append(xx[3])\n",
    "                        tempx.append(xx[1])\n",
    "                        tempy.append(xx[2])\n",
    "                        tempvx.append(xx[4])\n",
    "                        tempvy.append(xx[5])\n",
    "                        tempax.append(0)\n",
    "                        tempay.append(0)\n",
    "                    \n",
    "                    \n",
    "        tempz.append(xx[3])\n",
    "        tempx.append(xx[1])\n",
    "        tempy.append(xx[2])\n",
    "        tempvx.append(xx[4])\n",
    "        tempvy.append(xx[5])\n",
    "        tempax.append(0.)\n",
    "        tempay.append(0.)\n",
    "        [xx,hit]=freeflight(L[0]+L[1]+L[2]+L[3]+L[4],xx,hit)\n",
    "        if hit:\n",
    "            tempz.append(xx[3])\n",
    "            tempx.append(xx[1])\n",
    "            tempy.append(xx[2])\n",
    "            tempvx.append(xx[4])\n",
    "            tempvy.append(xx[5])\n",
    "            tempax.append(0.)\n",
    "            tempay.append(0.)\n",
    "        [xx,hit] = freeflight(L[0] + L[1] + L[2] + L[3] + L[4] + L[5], xx, hit) \n",
    "        if hit:            \n",
    "            tempz.append(xx[3])\n",
    "            tempx.append(xx[1])\n",
    "            tempy.append(xx[2])\n",
    "            tempvx.append(xx[4])\n",
    "            tempvy.append(xx[5])\n",
    "            tempax.append(0.)\n",
    "            tempay.append(0.)\n",
    "        z_position.append(tempz)\n",
    "        x_positiion.append(tempx)\n",
    "        y_position.append(tempy)\n",
    "        vx.append(tempvx)\n",
    "        vy.append(tempvy)\n",
    "        ax.append(tempax)\n",
    "        ay.append(tempay)\n",
    "    return [x_positiion,y_position,z_position,vx,vy,ax,ay]\n",
    "\n",
    "\n",
    "\n"
   ]
  },
  {
   "cell_type": "code",
   "execution_count": 56,
   "metadata": {},
   "outputs": [],
   "source": [
    "def plot_all(xls,yls,zls,vxls,vyls,axls,ayls):\n",
    "    nn=len(xls)\n",
    "    for n in range(nn):\n",
    "        plt.plot(zls[n],xls[n],\"b\")\n",
    "    plt.xlabel('z_axis')\n",
    "    plt.ylabel('x_axis')\n",
    "    plt.show()\n",
    "\n",
    "    plt.clf()\n",
    "    for n in range(nn):\n",
    "        plt.plot(zls[n],xls[n],\"b\")\n",
    "        plt.xlim(L[0]+L[1]+L[2],L[0]+L[1]+L[2]+L[3])\n",
    "    plt.xlabel('z_axis')\n",
    "    plt.ylabel('x_axis')\n",
    "    plt.show()\n",
    "    plt.clf()\n",
    "    for n in range(nn):\n",
    "        plt.plot(zls[n],vxls[n],\"b\")\n",
    "    plt.xlabel('z_axis')\n",
    "    plt.ylabel('vx_axis')\n",
    "    plt.show()\n",
    "\n",
    "    plt.clf()\n"
   ]
  },
  {
   "cell_type": "code",
   "execution_count": 57,
   "metadata": {
    "ExecuteTime": {
     "end_time": "2024-07-03T15:17:06.009826Z",
     "start_time": "2024-07-03T15:17:05.995873Z"
    }
   },
   "outputs": [],
   "source": [
    "\n",
    "nn=200\n",
    "nj=10\n",
    "initial=[phasespaceellipse2D(xx0,dxx) for i in range(nn)]"
   ]
  },
  {
   "cell_type": "code",
   "execution_count": 58,
   "metadata": {
    "ExecuteTime": {
     "end_time": "2024-07-03T15:18:46.906491Z",
     "start_time": "2024-07-03T15:18:46.029123Z"
    }
   },
   "outputs": [
    {
     "name": "stdout",
     "output_type": "stream",
     "text": [
      "started at: 10:30:18.524415\n"
     ]
    },
    {
     "data": {
      "image/png": "[encoded data removed]",
      "text/plain": [
       "<Figure size 640x480 with 1 Axes>"
      ]
     },
     "metadata": {},
     "output_type": "display_data"
    },
    {
     "data": {
      "image/png": "[encoded data removed]",
      "text/plain": [
       "<Figure size 640x480 with 1 Axes>"
      ]
     },
     "metadata": {},
     "output_type": "display_data"
    },
    {
     "data": {
      "image/png": "[encoded data removed]",
      "text/plain": [
       "<Figure size 640x480 with 1 Axes>"
      ]
     },
     "metadata": {},
     "output_type": "display_data"
    },
    {
     "data": {
      "text/plain": [
       "<Figure size 640x480 with 0 Axes>"
      ]
     },
     "metadata": {},
     "output_type": "display_data"
    }
   ],
   "source": [
    "fudgefactor,s00,detuning=1/3,4,-53333333.33333334\n",
    "xlist,ylist,zlist,vx,vy,ax,ay=trajectory_simulation(initial,nn,nj,ff=fudgefactor,s0=s00,detun=detuning,lc=True)\n",
    "plot_all(xlist,ylist,zlist,vx,vy,ax,ay)\n"
   ]
  },
  {
   "cell_type": "markdown",
   "metadata": {},
   "source": [
    "Now I'm going to do a function that takes the x,y,z positions as a parameter and makes a distribution of position in the x-y plane. This distribution as related to the number of particles in each point of the x-y plane."
   ]
  },
  {
   "cell_type": "code",
   "execution_count": 59,
   "metadata": {
    "ExecuteTime": {
     "end_time": "2024-07-03T15:08:25.067463Z",
     "start_time": "2024-07-03T15:08:25.061250Z"
    }
   },
   "outputs": [],
   "source": [
    "def xy_distribution(xpoints,ypoints,zpoints):\n",
    "    #First we want the x and y points that are at a distances z. This\n",
    "    #distance z is Ldetec\n",
    "    Lcooling=L[0]+L[1]+L[2]+L[3]+L[4]\n",
    "    n=len(zpoints)\n",
    "    x=[]\n",
    "    y=[]\n",
    "    z=[]\n",
    "    for i in range(n):\n",
    "        if Lcooling in zpoints[i]:\n",
    "            index=zpoints[i].index(Lcooling)\n",
    "            x.append(xpoints[i][index])\n",
    "            y.append(ypoints[i][index])\n",
    "            z.append(zpoints[i][index])\n",
    "    return x,y,z"
   ]
  },
  {
   "cell_type": "code",
   "execution_count": 60,
   "metadata": {
    "ExecuteTime": {
     "end_time": "2024-07-03T15:08:25.417916Z",
     "start_time": "2024-07-03T15:08:25.068490Z"
    }
   },
   "outputs": [
    {
     "name": "stdout",
     "output_type": "stream",
     "text": [
      "33 33 33\n"
     ]
    },
    {
     "data": {
      "image/png": "[encoded data removed]",
      "text/plain": [
       "<Figure size 640x480 with 2 Axes>"
      ]
     },
     "metadata": {},
     "output_type": "display_data"
    }
   ],
   "source": [
    "xcooling,ycooling,zcooling=xy_distribution(xlist,ylist,zlist)\n",
    "print(len(xcooling),len(ycooling),len(zcooling))\n",
    "#x_edges = np.linspace(min(xcooling), max(xcooling), num=1000)\n",
    "#y_edges = np.linspace(min(ycooling), max(ycooling), num=1000)\n",
    "x_edges=np.linspace(-0.025,0.025,80)\n",
    "y_edges=np.linspace(-0.025,0.025,80)\n",
    "H, xedges, yedges = np.histogram2d(xcooling, ycooling, bins=[x_edges, y_edges])\n",
    "\n",
    "fig=plt.figure()\n",
    "axs=fig.add_subplot(111)\n",
    "\n",
    "pos=plt.imshow(H.T, origin='lower', aspect='auto', cmap='inferno',\n",
    "           extent=[xedges[0], xedges[-1], yedges[0], yedges[-1]])\n",
    "plt.colorbar(label='number of counts')\n",
    "plt.xlabel('X Axis')\n",
    "plt.ylabel('Y Axis')\n",
    "plt.title('2D Heatmap')\n",
    "plt.show()\n"
   ]
  },
  {
   "cell_type": "code",
   "execution_count": 61,
   "metadata": {
    "ExecuteTime": {
     "end_time": "2024-07-03T15:08:25.791260Z",
     "start_time": "2024-07-03T15:08:25.418924Z"
    }
   },
   "outputs": [
    {
     "name": "stdout",
     "output_type": "stream",
     "text": [
      "-0.02259722538397127 0.015359021813766447\n"
     ]
    },
    {
     "data": {
      "text/plain": [
       "(array([0., 0., 0., 0., 0., 0., 0., 0., 0., 0., 0., 0., 0., 0., 0., 0., 0.,\n",
       "        0., 0., 0., 0., 0., 0., 0., 0., 0., 0., 0., 0., 0., 0., 0., 0., 0.,\n",
       "        0., 0., 0., 0., 0., 1., 2., 0., 1., 1., 1., 1., 2., 1., 3., 4., 1.,\n",
       "        3., 2., 3., 2., 1., 2., 1., 0., 0., 1., 0., 0., 0., 0., 0., 0., 0.,\n",
       "        0., 0., 0., 0., 0., 0., 0., 0., 0., 0., 0., 0., 0., 0., 0., 0., 0.,\n",
       "        0., 0., 0., 0., 0., 0., 0., 0., 0., 0., 0., 0., 0., 0., 0.]),\n",
       " array([-0.1  , -0.098, -0.096, -0.094, -0.092, -0.09 , -0.088, -0.086,\n",
       "        -0.084, -0.082, -0.08 , -0.078, -0.076, -0.074, -0.072, -0.07 ,\n",
       "        -0.068, -0.066, -0.064, -0.062, -0.06 , -0.058, -0.056, -0.054,\n",
       "        -0.052, -0.05 , -0.048, -0.046, -0.044, -0.042, -0.04 , -0.038,\n",
       "        -0.036, -0.034, -0.032, -0.03 , -0.028, -0.026, -0.024, -0.022,\n",
       "        -0.02 , -0.018, -0.016, -0.014, -0.012, -0.01 , -0.008, -0.006,\n",
       "        -0.004, -0.002,  0.   ,  0.002,  0.004,  0.006,  0.008,  0.01 ,\n",
       "         0.012,  0.014,  0.016,  0.018,  0.02 ,  0.022,  0.024,  0.026,\n",
       "         0.028,  0.03 ,  0.032,  0.034,  0.036,  0.038,  0.04 ,  0.042,\n",
       "         0.044,  0.046,  0.048,  0.05 ,  0.052,  0.054,  0.056,  0.058,\n",
       "         0.06 ,  0.062,  0.064,  0.066,  0.068,  0.07 ,  0.072,  0.074,\n",
       "         0.076,  0.078,  0.08 ,  0.082,  0.084,  0.086,  0.088,  0.09 ,\n",
       "         0.092,  0.094,  0.096,  0.098,  0.1  ]),\n",
       " <BarContainer object of 100 artists>)"
      ]
     },
     "execution_count": 61,
     "metadata": {},
     "output_type": "execute_result"
    },
    {
     "data": {
      "image/png": "[encoded data removed]",
      "text/plain": [
       "<Figure size 640x480 with 1 Axes>"
      ]
     },
     "metadata": {},
     "output_type": "display_data"
    }
   ],
   "source": [
    "print(min(xcooling), max(xcooling))\n",
    "plt.hist(xcooling,100,range=(-0.1,0.1))\n",
    "plt.hist(ycooling,100,range=(-0.1,0.1))"
   ]
  },
  {
   "cell_type": "code",
   "execution_count": 2,
   "metadata": {},
   "outputs": [
    {
     "name": "stdout",
     "output_type": "stream",
     "text": [
      "satdet0.7777\n"
     ]
    }
   ],
   "source": [
    "sat='sat'\n",
    "det='det'\n",
    "title=sat+det+str(0.7777)\n",
    "print(title)"
   ]
  },
  {
   "cell_type": "code",
   "execution_count": 62,
   "metadata": {
    "ExecuteTime": {
     "end_time": "2024-07-03T15:08:26.039201Z",
     "start_time": "2024-07-03T15:08:25.791260Z"
    }
   },
   "outputs": [
    {
     "data": {
      "image/png": "[encoded data removed]",
      "text/plain": [
       "<Figure size 640x480 with 1 Axes>"
      ]
     },
     "metadata": {},
     "output_type": "display_data"
    }
   ],
   "source": [
    "(mu, sigma) = norm.fit(xcooling)\n",
    "n,bins,patches=plt.hist(xcooling,100,range=(-0.1,0.1))\n",
    "y = ((1 / (np.sqrt(2 * np.pi) * sigma)) *\n",
    "     np.exp(-0.5 * (1 / sigma * (bins - mu))**2))\n",
    "plt.clf()\n",
    "plt.plot(bins, y, '--', color ='black')\n",
    "plt.show()"
   ]
  },
  {
   "cell_type": "code",
   "execution_count": null,
   "metadata": {
    "ExecuteTime": {
     "end_time": "2024-07-03T15:08:26.043355Z",
     "start_time": "2024-07-03T15:08:26.039201Z"
    }
   },
   "outputs": [],
   "source": []
  }
 ],
 "metadata": {
  "kernelspec": {
   "display_name": "Python 3",
   "language": "python",
   "name": "python3"
  },
  "language_info": {
   "codemirror_mode": {
    "name": "ipython",
    "version": 3
   },
   "file_extension": ".py",
   "mimetype": "text/x-python",
   "name": "python",
   "nbconvert_exporter": "python",
   "pygments_lexer": "ipython3",
   "version": "3.11.2"
  }
 },
 "nbformat": 4,
 "nbformat_minor": 2
}
